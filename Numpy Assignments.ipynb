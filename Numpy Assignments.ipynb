{
 "cells": [
  {
   "cell_type": "markdown",
   "metadata": {},
   "source": [
    "<Center><h1 style=\"color:DodgerBlue;\">Numpy Assignment</h1></center>\n",
    "<h2><p><u style=\"color:Tomato;\">Name</u><span style=\"color:Tomato;\">:</span> Utsab Dutta &nbsp;&nbsp;&nbsp;&nbsp;&nbsp;<u style=\"color:Tomato;\">Email</u><span style=\"color:Tomato;\">:</span> utsabdutta1996@gmail.com &nbsp;&nbsp;&nbsp;&nbsp;&nbsp;<u style=\"color:Tomato;\">Phone</u><span style=\"color:Tomato;\">:</span> +91-9739244583</p></h2>"
   ]
  },
  {
   "cell_type": "markdown",
   "metadata": {},
   "source": [
    "<h3 style=\"color:Red;\">Problem 1:</h3>\n",
    "<p><b>Write a function so that the columns of the output matrix are powers of the input vector.</b></p>\n",
    "<p>The order of the powers is determined by the increasing boolean argument. Specifically, when increasing is False, the i-th output column is the input vector raised element-wise to the power of N - i - 1.</p>\n",
    "<p><b>HINT:</b> Such a matrix with a geometric progression in each row is named for Alexandre- Theophile Vandermonde.</p>"
   ]
  },
  {
   "cell_type": "code",
   "execution_count": 1,
   "metadata": {},
   "outputs": [],
   "source": [
    "#importing Package\n",
    "import numpy as np"
   ]
  },
  {
   "cell_type": "code",
   "execution_count": 16,
   "metadata": {},
   "outputs": [],
   "source": [
    "#Initial Input\n",
    "list_value = [1, 2, 3, 4, 5]\n",
    "N = 3\n",
    "increasing = True"
   ]
  },
  {
   "cell_type": "code",
   "execution_count": 17,
   "metadata": {},
   "outputs": [],
   "source": [
    "#Main Logic for Theophile Vandermonde\n",
    "def theophileVandermonde(list_value, N = len(list_value), increasing = False):\n",
    "    list_value = np.array(list_value).reshape(-1, 1)\n",
    "    temp_list_value = []\n",
    "    if not increasing:\n",
    "        for index in range(N - 1, -1, -1):\n",
    "            temp_list_value.append(list_value ** index)\n",
    "    else:\n",
    "        for index in range(N):\n",
    "            temp_list_value.append(list_value ** index)\n",
    "    final_list_value = []\n",
    "    for index in range(int(np.array(temp_list_value).size/N)):\n",
    "        final_list_value.append(list(np.core.records.fromarrays(np.array(temp_list_value)[:, index]).tolist()[0]))\n",
    "    return np.array(final_list_value)"
   ]
  },
  {
   "cell_type": "code",
   "execution_count": 18,
   "metadata": {},
   "outputs": [
    {
     "name": "stdout",
     "output_type": "stream",
     "text": [
      "[[  1   1   1   1   1]\n",
      " [ 16   8   4   2   1]\n",
      " [ 81  27   9   3   1]\n",
      " [256  64  16   4   1]\n",
      " [625 125  25   5   1]]\n"
     ]
    }
   ],
   "source": [
    "#Calling Theophile Vandermonde with only list\n",
    "print(theophileVandermonde(list_value))"
   ]
  },
  {
   "cell_type": "code",
   "execution_count": 5,
   "metadata": {},
   "outputs": [
    {
     "name": "stdout",
     "output_type": "stream",
     "text": [
      "[[  1   1   1   1   1]\n",
      " [  1   2   4   8  16]\n",
      " [  1   3   9  27  81]\n",
      " [  1   4  16  64 256]\n",
      " [  1   5  25 125 625]]\n"
     ]
    }
   ],
   "source": [
    "#Calling Theophile Vandermonde with only list and increasing = True\n",
    "print(theophileVandermonde(list_value, increasing = increasing))"
   ]
  },
  {
   "cell_type": "code",
   "execution_count": 6,
   "metadata": {},
   "outputs": [
    {
     "name": "stdout",
     "output_type": "stream",
     "text": [
      "[[ 1  1  1]\n",
      " [ 4  2  1]\n",
      " [ 9  3  1]\n",
      " [16  4  1]\n",
      " [25  5  1]]\n"
     ]
    }
   ],
   "source": [
    "#Calling Theophile Vandermonde with only list and N = 3\n",
    "print(theophileVandermonde(list_value, N))"
   ]
  },
  {
   "cell_type": "code",
   "execution_count": 7,
   "metadata": {},
   "outputs": [
    {
     "name": "stdout",
     "output_type": "stream",
     "text": [
      "[[ 1  1  1]\n",
      " [ 1  2  4]\n",
      " [ 1  3  9]\n",
      " [ 1  4 16]\n",
      " [ 1  5 25]]\n"
     ]
    }
   ],
   "source": [
    "#Calling Theophile Vandermonde with only list, N = 3 and increasing = True\n",
    "print(theophileVandermonde(list_value, N, increasing = increasing))"
   ]
  },
  {
   "cell_type": "markdown",
   "metadata": {},
   "source": [
    "<h3 style=\"color:Red;\">Problem 2:</h3>\n",
    "<h3><u>Problem Statement</u></h3>\n",
    "<p><b>Given a sequence of n values x1, x2, ..., xn and a window size k>0, the k-th moving average of the given sequence is defined as follows:</b></p>\n",
    "<p>The moving average sequence has n-k+1 elements as shown below.</p>\n",
    "<p>The moving averages with k=4 of a ten-value sequence (n=10) is shown below</p>\n",
    "<p>i 1 2 3 4 5 6 7 8 9 10</p>\n",
    "<p>===============</p>\n",
    "<p>Input 10 20 30 40 50 60 70 80 90 100</p>\n",
    "<p>y1 25 = (10+20+30+40)/4</p>\n",
    "<p>y2 35 = (20+30+40+50)/4</p>\n",
    "<p>y3 45 = (30+40+50+60)/4</p>\n",
    "<p>y4 55 = (40+50+60+70)/4</p>\n",
    "<p>y5 65 = (50+60+70+80)/4</p>\n",
    "<p>y6 75 = (60+70+80+90)/4</p>\n",
    "<p>y7 85 = (70+80+90+100)/4</p>\n",
    "<p>Thus, the moving average sequence has n-k+1=10-4+1=7 values.</p>\n",
    "<p><b>Question:</b> Write a function to find moving average in an array over a window:\n",
    "Test it over [3, 5, 7, 2, 8, 10, 11, 65, 72, 81, 99, 100, 150] and window of 3.</p>"
   ]
  },
  {
   "cell_type": "code",
   "execution_count": 8,
   "metadata": {},
   "outputs": [],
   "source": [
    "#importing Package\n",
    "import numpy as np"
   ]
  },
  {
   "cell_type": "code",
   "execution_count": 9,
   "metadata": {},
   "outputs": [],
   "source": [
    "#Input Type 1\n",
    "list_value = [3, 5, 7, 2, 8, 10, 11, 65, 72, 81, 99, 100, 150]\n",
    "window = 3"
   ]
  },
  {
   "cell_type": "code",
   "execution_count": 10,
   "metadata": {},
   "outputs": [],
   "source": [
    "#Main Logic for Moving Average\n",
    "def movingAverage(list_value, window):\n",
    "    list_value = np.array(list_value)\n",
    "    for index in range(len(list_value) - window + 1):\n",
    "        yield np.sum(list_value[index:index+window])/window"
   ]
  },
  {
   "cell_type": "code",
   "execution_count": 11,
   "metadata": {},
   "outputs": [
    {
     "name": "stdout",
     "output_type": "stream",
     "text": [
      "The moving averages with k=3 of a (n=13)-value sequence is shown below:\n",
      "Y[1]: 5.0\n",
      "Y[2]: 4.67\n",
      "Y[3]: 5.67\n",
      "Y[4]: 6.67\n",
      "Y[5]: 9.67\n",
      "Y[6]: 28.67\n",
      "Y[7]: 49.33\n",
      "Y[8]: 72.67\n",
      "Y[9]: 84.0\n",
      "Y[10]: 93.33\n",
      "Y[11]: 116.33\n",
      "Thus, the moving average sequence has 11 values.\n"
     ]
    }
   ],
   "source": [
    "#Calling Moving Average for Input Type 1\n",
    "print(f'The moving averages with k={window} of a (n={len(list_value)})-value sequence is shown below:')\n",
    "for index, average in enumerate(movingAverage(list_value, window)):\n",
    "    print(f'Y[{index + 1}]: {np.round(average,2)}')\n",
    "print(f'Thus, the moving average sequence has {len(list_value) - window + 1} values.')"
   ]
  },
  {
   "cell_type": "code",
   "execution_count": 12,
   "metadata": {},
   "outputs": [],
   "source": [
    "#Input Type 2\n",
    "list_value = [10, 20, 30, 40, 50, 60, 70, 80, 90, 100]\n",
    "window = 4"
   ]
  },
  {
   "cell_type": "code",
   "execution_count": 13,
   "metadata": {},
   "outputs": [
    {
     "name": "stdout",
     "output_type": "stream",
     "text": [
      "The moving averages with k=4 of a (n=10)-value sequence is shown below:\n",
      "Y[1]: 25.0\n",
      "Y[2]: 35.0\n",
      "Y[3]: 45.0\n",
      "Y[4]: 55.0\n",
      "Y[5]: 65.0\n",
      "Y[6]: 75.0\n",
      "Y[7]: 85.0\n",
      "Thus, the moving average sequence has 7 values.\n"
     ]
    }
   ],
   "source": [
    "#Calling Moving Average for Input Type 2\n",
    "print(f'The moving averages with k={window} of a (n={len(list_value)})-value sequence is shown below:')\n",
    "for index, average in enumerate(movingAverage(list_value, window)):\n",
    "    print(f'Y[{index + 1}]: {np.round(average,2)}')\n",
    "print(f'Thus, the moving average sequence has {len(list_value) - window + 1} values.')"
   ]
  }
 ],
 "metadata": {
  "kernelspec": {
   "display_name": "Python 3",
   "language": "python",
   "name": "python3"
  },
  "language_info": {
   "codemirror_mode": {
    "name": "ipython",
    "version": 3
   },
   "file_extension": ".py",
   "mimetype": "text/x-python",
   "name": "python",
   "nbconvert_exporter": "python",
   "pygments_lexer": "ipython3",
   "version": "3.8.2"
  }
 },
 "nbformat": 4,
 "nbformat_minor": 4
}
